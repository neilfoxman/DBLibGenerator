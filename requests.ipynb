{
 "cells": [
  {
   "cell_type": "code",
   "execution_count": 1,
   "metadata": {},
   "outputs": [
    {
     "name": "stdout",
     "output_type": "stream",
     "text": [
      "STORMSEQ-139 : The system shall be designed such that leaking reagent and coolant is managed and easily removable/easily cleaned.\n",
      "STORMSEQ-140 : The system shall accommodate Novaseqx P1-B3 flowcell format (Appendix 7.1.1)\n",
      "STORMSEQ-141 : The flowcell nest shall prevent translation of flowcell in XYZ directions relative to the stage that it is on.\n",
      "STORMSEQ-142 : The flowcell chuck shall be capable of repeatably and reliably establishing fluidic connections between the chuck and flowcell.\n",
      "STORMSEQ-143 : The system shall have a holder for the chuck when not in use.\n",
      "STORMSEQ-144 : The system shall be capable of heating and cooling the flowcell\n",
      "STORMSEQ-145 : The system shall be capable of closed loop temperature control\n",
      "STORMSEQ-146 : The thermal system shall be capable of applying a temperature of 20C to 80C to the flowcell\n",
      "STORMSEQ-147 : The thermal system shall produce the temperature gradient no more than Â±1.0 C in 20c to 60c and +/- 2.5C above 60c across the entire flowcell area\n",
      "STORMSEQ-148 : The thermal system shall be capable of achieving a root-mean-square ramp rate of 0.5C/sec both heating and cooling.\n",
      "STORMSEQ-149 : The system shall be able to pump 8 individual lanes with syringe pump(s) both simultaneously and individually.\n",
      "STORMSEQ-150 : The system shall have a pump accuracy of 10% at 60uL\n",
      "STORMSEQ-151 : The system shall be capable of providing a flow rate, through a single channel, between 100 uL/min and 1200 uL/min\n",
      "STORMSEQ-152 : The system shall feature a chiller for a minimum of 4 reagents (8 C Â± 2 C). Simplexity will target room for 8 reagents. The intake volume shall be less than 1 ml ( stored in 15 or 25 ml conical tubes)\n",
      "STORMSEQ-153 : The system shall be capable of addressing each reagent at each lane (12 reagents minimum - 4 room temperature, 4 bulk, and 4 chilled)\n",
      "STORMSEQ-154 : The system shall utilize microfluidic tubing compatible with reagents\n",
      "STORMSEQ-155 : The system shall be capable of detecting fluid existence in the lanes (soft requirement depending on software)\n",
      "STORMSEQ-156 : The system shall have a waste bottle that is contained with sensor detection when full (such that volume of one run does not cause an overflow)\n",
      "STORMSEQ-157 : The system shall have 4 room temp reagents with intake volume less than 150 ul stored in 2 ml tubes. If  the 2 ml tubes are not used then the reagent reservoir shall be able to be thoroughly cleaned to avoid cross contamination between reagents.\n",
      "STORMSEQ-158 : The system shall have 4 Bulk reagents with less than 3 ml intake volume (stored in 50 ml bottles)\n",
      "STORMSEQ-159 : The fluidics and heating system shall be integratable with the Nikon NIS elements software.\n",
      "STORMSEQ-160 : The system shall be constructed of materials compatible with all reagents and chemicals utilized in operation\n",
      "STORMSEQ-161 : Materials and components utilized in the construction of the system shall be RoHS 2011 / 65/EU compliant\n",
      "STORMSEQ-162 : The system shall operate on 120V AC electrical power\n",
      "STORMSEQ-163 : The system shall operate in a standard lab environment\n",
      "STORMSEQ-164 : The system shall prevent employee exposure to hazardous chemicals\n",
      "\n"
     ]
    }
   ],
   "source": [
    "# This code sample uses the 'requests' library:\n",
    "# http://docs.python-requests.org\n",
    "import requests\n",
    "from requests.auth import HTTPBasicAuth\n",
    "import json\n",
    "\n",
    "\n",
    "parent_key = \"STORMSEQ-119\"\n",
    "\n",
    "\n",
    "\n",
    "url = \"https://simplexity.atlassian.net/rest/api/3/search\"\n",
    "\n",
    "auth = HTTPBasicAuth(\n",
    "  \"neil.foxman@simplexitypd.com\",\n",
    "  \"ATATT3xFfGF0mjvegA70NDfl6DCmDa3uP3J7Vyq61jfnRbGVat_BoyxHDYhmYwzJQ_eJsJoi1BiE2nSRGsR_yAwCZcGYm2bYxCqCXp6uDDkPa_apbP307BB03OKbLRzSmeZqlsMypOs_0Eb_9S3YsB1j5okN3PvJjgmvFl61HHO3Zo6txYJUe3U=9995DE1E\"\n",
    ")\n",
    "\n",
    "headers = {\n",
    "  \"Accept\": \"application/json\"\n",
    "}\n",
    "\n",
    "query = {\n",
    "    'jql': f'\"Epic Link\"={parent_key} OR \"Parent Link\"={parent_key} ORDER BY rank',\n",
    "    'fields': 'summary'\n",
    "}\n",
    "\n",
    "response = requests.request(\n",
    "   \"GET\",\n",
    "   url,\n",
    "   headers=headers,\n",
    "   params=query,\n",
    "   auth=auth\n",
    ")\n",
    "\n",
    "# print(json.dumps(json.loads(response.text), sort_keys=True, indent=4, separators=(\",\", \": \")))\n",
    "# print(dir(response))\n",
    "issues = json.loads(response.text)['issues']\n",
    "# print(json.dumps(issues, sort_keys=True, indent=4, separators=(\",\", \": \")))\n",
    "for issue in issues:\n",
    "    print(f\"{issue['key']} : {issue['fields']['summary']}\")\n",
    "print()"
   ]
  },
  {
   "cell_type": "code",
   "execution_count": 2,
   "metadata": {},
   "outputs": [
    {
     "ename": "MissingSchema",
     "evalue": "Invalid URL 'api.digikey.com/products/v4/search/categories': No schema supplied. Perhaps you meant http://api.digikey.com/products/v4/search/categories?",
     "output_type": "error",
     "traceback": [
      "\u001b[1;31m---------------------------------------------------------------------------\u001b[0m",
      "\u001b[1;31mMissingSchema\u001b[0m                             Traceback (most recent call last)",
      "\u001b[1;32m~\\AppData\\Local\\Temp/ipykernel_23688/2540752198.py\u001b[0m in \u001b[0;36m<module>\u001b[1;34m\u001b[0m\n\u001b[0;32m     20\u001b[0m \u001b[1;31m# }\u001b[0m\u001b[1;33m\u001b[0m\u001b[1;33m\u001b[0m\u001b[1;33m\u001b[0m\u001b[0m\n\u001b[0;32m     21\u001b[0m \u001b[1;33m\u001b[0m\u001b[0m\n\u001b[1;32m---> 22\u001b[1;33m response = requests.request(\n\u001b[0m\u001b[0;32m     23\u001b[0m    \u001b[1;34m\"GET\"\u001b[0m\u001b[1;33m,\u001b[0m\u001b[1;33m\u001b[0m\u001b[1;33m\u001b[0m\u001b[0m\n\u001b[0;32m     24\u001b[0m    \u001b[0murl\u001b[0m\u001b[1;33m,\u001b[0m\u001b[1;33m\u001b[0m\u001b[1;33m\u001b[0m\u001b[0m\n",
      "\u001b[1;32mc:\\Program Files\\Python38\\lib\\site-packages\\requests\\api.py\u001b[0m in \u001b[0;36mrequest\u001b[1;34m(method, url, **kwargs)\u001b[0m\n\u001b[0;32m     59\u001b[0m     \u001b[1;31m# cases, and look like a memory leak in others.\u001b[0m\u001b[1;33m\u001b[0m\u001b[1;33m\u001b[0m\u001b[1;33m\u001b[0m\u001b[0m\n\u001b[0;32m     60\u001b[0m     \u001b[1;32mwith\u001b[0m \u001b[0msessions\u001b[0m\u001b[1;33m.\u001b[0m\u001b[0mSession\u001b[0m\u001b[1;33m(\u001b[0m\u001b[1;33m)\u001b[0m \u001b[1;32mas\u001b[0m \u001b[0msession\u001b[0m\u001b[1;33m:\u001b[0m\u001b[1;33m\u001b[0m\u001b[1;33m\u001b[0m\u001b[0m\n\u001b[1;32m---> 61\u001b[1;33m         \u001b[1;32mreturn\u001b[0m \u001b[0msession\u001b[0m\u001b[1;33m.\u001b[0m\u001b[0mrequest\u001b[0m\u001b[1;33m(\u001b[0m\u001b[0mmethod\u001b[0m\u001b[1;33m=\u001b[0m\u001b[0mmethod\u001b[0m\u001b[1;33m,\u001b[0m \u001b[0murl\u001b[0m\u001b[1;33m=\u001b[0m\u001b[0murl\u001b[0m\u001b[1;33m,\u001b[0m \u001b[1;33m**\u001b[0m\u001b[0mkwargs\u001b[0m\u001b[1;33m)\u001b[0m\u001b[1;33m\u001b[0m\u001b[1;33m\u001b[0m\u001b[0m\n\u001b[0m\u001b[0;32m     62\u001b[0m \u001b[1;33m\u001b[0m\u001b[0m\n\u001b[0;32m     63\u001b[0m \u001b[1;33m\u001b[0m\u001b[0m\n",
      "\u001b[1;32mc:\\Program Files\\Python38\\lib\\site-packages\\requests\\sessions.py\u001b[0m in \u001b[0;36mrequest\u001b[1;34m(self, method, url, params, data, headers, cookies, files, auth, timeout, allow_redirects, proxies, hooks, stream, verify, cert, json)\u001b[0m\n\u001b[0;32m    526\u001b[0m             \u001b[0mhooks\u001b[0m\u001b[1;33m=\u001b[0m\u001b[0mhooks\u001b[0m\u001b[1;33m,\u001b[0m\u001b[1;33m\u001b[0m\u001b[1;33m\u001b[0m\u001b[0m\n\u001b[0;32m    527\u001b[0m         )\n\u001b[1;32m--> 528\u001b[1;33m         \u001b[0mprep\u001b[0m \u001b[1;33m=\u001b[0m \u001b[0mself\u001b[0m\u001b[1;33m.\u001b[0m\u001b[0mprepare_request\u001b[0m\u001b[1;33m(\u001b[0m\u001b[0mreq\u001b[0m\u001b[1;33m)\u001b[0m\u001b[1;33m\u001b[0m\u001b[1;33m\u001b[0m\u001b[0m\n\u001b[0m\u001b[0;32m    529\u001b[0m \u001b[1;33m\u001b[0m\u001b[0m\n\u001b[0;32m    530\u001b[0m         \u001b[0mproxies\u001b[0m \u001b[1;33m=\u001b[0m \u001b[0mproxies\u001b[0m \u001b[1;32mor\u001b[0m \u001b[1;33m{\u001b[0m\u001b[1;33m}\u001b[0m\u001b[1;33m\u001b[0m\u001b[1;33m\u001b[0m\u001b[0m\n",
      "\u001b[1;32mc:\\Program Files\\Python38\\lib\\site-packages\\requests\\sessions.py\u001b[0m in \u001b[0;36mprepare_request\u001b[1;34m(self, request)\u001b[0m\n\u001b[0;32m    454\u001b[0m \u001b[1;33m\u001b[0m\u001b[0m\n\u001b[0;32m    455\u001b[0m         \u001b[0mp\u001b[0m \u001b[1;33m=\u001b[0m \u001b[0mPreparedRequest\u001b[0m\u001b[1;33m(\u001b[0m\u001b[1;33m)\u001b[0m\u001b[1;33m\u001b[0m\u001b[1;33m\u001b[0m\u001b[0m\n\u001b[1;32m--> 456\u001b[1;33m         p.prepare(\n\u001b[0m\u001b[0;32m    457\u001b[0m             \u001b[0mmethod\u001b[0m\u001b[1;33m=\u001b[0m\u001b[0mrequest\u001b[0m\u001b[1;33m.\u001b[0m\u001b[0mmethod\u001b[0m\u001b[1;33m.\u001b[0m\u001b[0mupper\u001b[0m\u001b[1;33m(\u001b[0m\u001b[1;33m)\u001b[0m\u001b[1;33m,\u001b[0m\u001b[1;33m\u001b[0m\u001b[1;33m\u001b[0m\u001b[0m\n\u001b[0;32m    458\u001b[0m             \u001b[0murl\u001b[0m\u001b[1;33m=\u001b[0m\u001b[0mrequest\u001b[0m\u001b[1;33m.\u001b[0m\u001b[0murl\u001b[0m\u001b[1;33m,\u001b[0m\u001b[1;33m\u001b[0m\u001b[1;33m\u001b[0m\u001b[0m\n",
      "\u001b[1;32mc:\\Program Files\\Python38\\lib\\site-packages\\requests\\models.py\u001b[0m in \u001b[0;36mprepare\u001b[1;34m(self, method, url, headers, files, data, params, auth, cookies, hooks, json)\u001b[0m\n\u001b[0;32m    314\u001b[0m \u001b[1;33m\u001b[0m\u001b[0m\n\u001b[0;32m    315\u001b[0m         \u001b[0mself\u001b[0m\u001b[1;33m.\u001b[0m\u001b[0mprepare_method\u001b[0m\u001b[1;33m(\u001b[0m\u001b[0mmethod\u001b[0m\u001b[1;33m)\u001b[0m\u001b[1;33m\u001b[0m\u001b[1;33m\u001b[0m\u001b[0m\n\u001b[1;32m--> 316\u001b[1;33m         \u001b[0mself\u001b[0m\u001b[1;33m.\u001b[0m\u001b[0mprepare_url\u001b[0m\u001b[1;33m(\u001b[0m\u001b[0murl\u001b[0m\u001b[1;33m,\u001b[0m \u001b[0mparams\u001b[0m\u001b[1;33m)\u001b[0m\u001b[1;33m\u001b[0m\u001b[1;33m\u001b[0m\u001b[0m\n\u001b[0m\u001b[0;32m    317\u001b[0m         \u001b[0mself\u001b[0m\u001b[1;33m.\u001b[0m\u001b[0mprepare_headers\u001b[0m\u001b[1;33m(\u001b[0m\u001b[0mheaders\u001b[0m\u001b[1;33m)\u001b[0m\u001b[1;33m\u001b[0m\u001b[1;33m\u001b[0m\u001b[0m\n\u001b[0;32m    318\u001b[0m         \u001b[0mself\u001b[0m\u001b[1;33m.\u001b[0m\u001b[0mprepare_cookies\u001b[0m\u001b[1;33m(\u001b[0m\u001b[0mcookies\u001b[0m\u001b[1;33m)\u001b[0m\u001b[1;33m\u001b[0m\u001b[1;33m\u001b[0m\u001b[0m\n",
      "\u001b[1;32mc:\\Program Files\\Python38\\lib\\site-packages\\requests\\models.py\u001b[0m in \u001b[0;36mprepare_url\u001b[1;34m(self, url, params)\u001b[0m\n\u001b[0;32m    388\u001b[0m             \u001b[0merror\u001b[0m \u001b[1;33m=\u001b[0m \u001b[0merror\u001b[0m\u001b[1;33m.\u001b[0m\u001b[0mformat\u001b[0m\u001b[1;33m(\u001b[0m\u001b[0mto_native_string\u001b[0m\u001b[1;33m(\u001b[0m\u001b[0murl\u001b[0m\u001b[1;33m,\u001b[0m \u001b[1;34m'utf8'\u001b[0m\u001b[1;33m)\u001b[0m\u001b[1;33m)\u001b[0m\u001b[1;33m\u001b[0m\u001b[1;33m\u001b[0m\u001b[0m\n\u001b[0;32m    389\u001b[0m \u001b[1;33m\u001b[0m\u001b[0m\n\u001b[1;32m--> 390\u001b[1;33m             \u001b[1;32mraise\u001b[0m \u001b[0mMissingSchema\u001b[0m\u001b[1;33m(\u001b[0m\u001b[0merror\u001b[0m\u001b[1;33m)\u001b[0m\u001b[1;33m\u001b[0m\u001b[1;33m\u001b[0m\u001b[0m\n\u001b[0m\u001b[0;32m    391\u001b[0m \u001b[1;33m\u001b[0m\u001b[0m\n\u001b[0;32m    392\u001b[0m         \u001b[1;32mif\u001b[0m \u001b[1;32mnot\u001b[0m \u001b[0mhost\u001b[0m\u001b[1;33m:\u001b[0m\u001b[1;33m\u001b[0m\u001b[1;33m\u001b[0m\u001b[0m\n",
      "\u001b[1;31mMissingSchema\u001b[0m: Invalid URL 'api.digikey.com/products/v4/search/categories': No schema supplied. Perhaps you meant http://api.digikey.com/products/v4/search/categories?"
     ]
    }
   ],
   "source": [
    "# This code sample uses the 'requests' library:\n",
    "# http://docs.python-requests.org\n",
    "import requests\n",
    "from requests.auth import HTTPBasicAuth\n",
    "import json\n",
    "\n",
    "\n",
    "\n",
    "url = \"api.digikey.com/products/v4/search/categories\"\n",
    "\n",
    "\n",
    "\n",
    "headers = {\n",
    "  \"Accept\": \"application/json\"\n",
    "}\n",
    "\n",
    "# query = {\n",
    "#     'jql': f'\"Epic Link\"={parent_key} OR \"Parent Link\"={parent_key} ORDER BY rank',\n",
    "#     'fields': 'summary'\n",
    "# }\n",
    "\n",
    "response = requests.request(\n",
    "   \"GET\",\n",
    "   url,\n",
    "   headers=headers,\n",
    "#    params=query,\n",
    "#    auth=auth\n",
    ")\n",
    "\n",
    "print(json.dumps(json.loads(response.text), sort_keys=True, indent=4, separators=(\",\", \": \")))\n",
    "# print(dir(response))\n",
    "# issues = json.loads(response.text)"
   ]
  }
 ],
 "metadata": {
  "kernelspec": {
   "display_name": "Python 3",
   "language": "python",
   "name": "python3"
  },
  "language_info": {
   "codemirror_mode": {
    "name": "ipython",
    "version": 3
   },
   "file_extension": ".py",
   "mimetype": "text/x-python",
   "name": "python",
   "nbconvert_exporter": "python",
   "pygments_lexer": "ipython3",
   "version": "3.8.9"
  }
 },
 "nbformat": 4,
 "nbformat_minor": 2
}
